{
 "cells": [
  {
   "cell_type": "markdown",
   "id": "0cd67dd3-028d-49fd-8bf3-1493202aa827",
   "metadata": {},
   "source": [
    "# Problem Statement\n",
    "We want to build an online shopping cart system that allows users to add products to their cart, calculate the total cost, apply discounts, and generate an invoice. The system should include the following functionalities:\n",
    "\n",
    "* Adding products to the car\n",
    "* Removing products from the cart\n",
    "* Calculating the total cost\n",
    "* Applying discounts based on user type\n",
    "* Generating an invoice\n",
    "\n",
    "1. Create the Product class\n",
    "   We create a basic `Product` class with attributes for the product name and price."
   ]
  },
  {
   "cell_type": "code",
   "execution_count": 15,
   "id": "751aaf09-961b-4f61-8e8b-597286ce11f2",
   "metadata": {},
   "outputs": [],
   "source": [
    "class Product:\n",
    "    def __init__(self, name, price):\n",
    "        self.name= name\n",
    "        self.price = price   "
   ]
  },
  {
   "cell_type": "markdown",
   "id": "840c1dd9-f3ac-4a93-82c8-c3098330a6d2",
   "metadata": {},
   "source": [
    "2. Implement the User class\n",
    "   \n",
    "  In this step, we create a `User` class with attributes for the user's name and whether they are a premium member. We then modify the calculate_total_cost method in the ShoppingCart class to apply a `10%` discount for premium users. "
   ]
  },
  {
   "cell_type": "code",
   "execution_count": 74,
   "id": "115c6bdf-e563-4501-9b91-70b1e3329181",
   "metadata": {},
   "outputs": [],
   "source": [
    "class User:\n",
    "    users = []\n",
    "    \n",
    "    def __init__(self, name, is_premium = False, is_admin= False):\n",
    "        self.name = name\n",
    "        self.is_admin = is_admin\n",
    "        self.cart = ShoppingCart()\n",
    "        self.__is_premium = is_premium\n",
    "        # self.__is_admin = is_admin\n",
    "\n",
    "        User.users.append(self)\n",
    "\n",
    "    @property\n",
    "    def is_premium(self):\n",
    "        return self.__is_premium"
   ]
  },
  {
   "cell_type": "markdown",
   "id": "e3c53403-b0a9-450d-b02e-5e82a7313188",
   "metadata": {},
   "source": [
    "3. Create the ShoppingCart class\n",
    "   \n",
    "In this step, we create a `ShoppingCart` class with methods for adding and removing products from the cart, as well as calculating the total cost of the items in the cart."
   ]
  },
  {
   "cell_type": "code",
   "execution_count": 75,
   "id": "be399a28-ea80-4f0d-a222-9e45739fc195",
   "metadata": {},
   "outputs": [],
   "source": [
    "def discount_10_percentage(func):\n",
    "    \n",
    "    def wrapper(self,user):\n",
    "        total_cost = func(self, user)\n",
    "        if user.is_premium:\n",
    "            return total_cost, total_cost * 0.1\n",
    "        return total_cost, 0\n",
    "\n",
    "    return wrapper"
   ]
  },
  {
   "cell_type": "markdown",
   "id": "9cf1769d-260a-4632-b9a3-bb5dff80e98d",
   "metadata": {},
   "source": [
    "Here, we defined a decorator `discount_10_percent` that applies a `10% `discount to the total cost. We then apply this decorator to the `calculate_total_cost` method in the ShoppingCart class."
   ]
  },
  {
   "cell_type": "code",
   "execution_count": 76,
   "id": "82274cd2-6dc0-4993-89a6-7944cd91cd11",
   "metadata": {},
   "outputs": [],
   "source": [
    "class ShoppingCart:\n",
    "    def __init__(self):\n",
    "        self.products = []\n",
    "\n",
    "    def add_product(self, product):\n",
    "        self.products.append(product)\n",
    "\n",
    "    def remove_product(self, product):\n",
    "        self.products.remove(product)\n",
    "\n",
    "    @discount_10_percentage\n",
    "    def calculate_total_cost(self, user):\n",
    "        return sum(product.price for product in self.products)\n",
    "\n",
    "    def generate_invoice(self, user):\n",
    "        invoice = \"\"  # Initialize the variable\n",
    "\n",
    "        invoice += f\"| Invoice for {user.name}:\\n\"\n",
    "        invoice += \"====================\\n\"\n",
    "        for product in self.products:\n",
    "            invoice += f\"{product.name}: ${product.price}\\n\"\n",
    "        total_cost, discounted = self.calculate_total_cost(user)\n",
    "        invoice += \"-----------------------\\n\"\n",
    "        invoice += f\"Sub-Total: ${total_cost}\\n\"\n",
    "        invoice += f\"Discount (10%): ${discounted}\\n\"\n",
    "        invoice += \"-----------------------\\n\"\n",
    "        invoice += f\"Total: ${total_cost - discounted}\"\n",
    "        return invoice\n",
    "\n",
    "    def get_products(self):\n",
    "        yield from self.products\n"
   ]
  },
  {
   "cell_type": "markdown",
   "id": "b827d28f-c758-40ba-bf0b-a22e7058da7c",
   "metadata": {},
   "source": [
    "4. Testing the functionality\n",
    "   \n",
    "Now that we have implemented the necessary classes and methods, let's test our online shopping cart system:"
   ]
  },
  {
   "cell_type": "code",
   "execution_count": 77,
   "id": "9a860483-8516-41f2-9b6b-e391eb09b42d",
   "metadata": {},
   "outputs": [],
   "source": [
    "user1 = User(\"seema\")\n",
    "user2 = User(\"Aasha\", True)"
   ]
  },
  {
   "cell_type": "code",
   "execution_count": 78,
   "id": "d13c91ec-8fa2-448a-a70d-875d1cc4282b",
   "metadata": {},
   "outputs": [],
   "source": [
    "prod1 = Product(\"Shirt\", 20)\n",
    "prod2 = Product(\"Shoes\", 50)\n",
    "prod3 = Product(\"Phone\", 200)"
   ]
  },
  {
   "cell_type": "code",
   "execution_count": 79,
   "id": "87c150f8-5f6f-42ec-a755-352537c7351d",
   "metadata": {},
   "outputs": [],
   "source": [
    "user1.cart.add_product(prod1)\n",
    "user1.cart.add_product(prod2)"
   ]
  },
  {
   "cell_type": "code",
   "execution_count": 80,
   "id": "c1603dbd-9869-49ea-9543-d2675e2bbd2b",
   "metadata": {},
   "outputs": [
    {
     "data": {
      "text/plain": [
       "[<__main__.Product at 0x117fa17a4e0>, <__main__.Product at 0x117faabc890>]"
      ]
     },
     "execution_count": 80,
     "metadata": {},
     "output_type": "execute_result"
    }
   ],
   "source": [
    "list(user1.cart.get_products())"
   ]
  },
  {
   "cell_type": "code",
   "execution_count": 81,
   "id": "1291e0b5-5abc-442b-9307-98a8e80ba7ae",
   "metadata": {},
   "outputs": [
    {
     "data": {
      "text/plain": [
       "(70, 0)"
      ]
     },
     "execution_count": 81,
     "metadata": {},
     "output_type": "execute_result"
    }
   ],
   "source": [
    "user1.cart.calculate_total_cost(user1)"
   ]
  },
  {
   "cell_type": "code",
   "execution_count": 82,
   "id": "f719fda8-cb33-4b11-86e2-7a26053e74dd",
   "metadata": {},
   "outputs": [],
   "source": [
    "user2.cart.add_product(prod1)\n",
    "user2.cart.add_product(prod2)"
   ]
  },
  {
   "cell_type": "code",
   "execution_count": 83,
   "id": "47bb7b6c-da00-4f7a-86c9-1828886b90cb",
   "metadata": {},
   "outputs": [
    {
     "data": {
      "text/plain": [
       "(70, 7.0)"
      ]
     },
     "execution_count": 83,
     "metadata": {},
     "output_type": "execute_result"
    }
   ],
   "source": [
    "user2.cart.calculate_total_cost(user2)"
   ]
  },
  {
   "cell_type": "markdown",
   "id": "22795974-3076-4818-8237-91d4adb96a26",
   "metadata": {},
   "source": [
    "\n",
    "5. Generating Invoice for a given cart"
   ]
  },
  {
   "cell_type": "code",
   "execution_count": 84,
   "id": "94b3a0df-6290-453f-a7fa-5558f5061caf",
   "metadata": {},
   "outputs": [
    {
     "name": "stdout",
     "output_type": "stream",
     "text": [
      "| Invoice for seema:\n",
      "====================\n",
      "Shirt: $20\n",
      "Shoes: $50\n",
      "-----------------------\n",
      "Sub-Total: $70\n",
      "Discount (10%): $0\n",
      "-----------------------\n",
      "Total: $70\n"
     ]
    }
   ],
   "source": [
    "print(user1.cart.generate_invoice(user1))"
   ]
  },
  {
   "cell_type": "code",
   "execution_count": 85,
   "id": "9f95cd9e-4067-4da5-b7c5-ab0e3ba84add",
   "metadata": {},
   "outputs": [
    {
     "name": "stdout",
     "output_type": "stream",
     "text": [
      "| Invoice for Aasha:\n",
      "====================\n",
      "Shirt: $20\n",
      "Shoes: $50\n",
      "-----------------------\n",
      "Sub-Total: $70\n",
      "Discount (10%): $7.0\n",
      "-----------------------\n",
      "Total: $63.0\n"
     ]
    }
   ],
   "source": [
    "print(user2.cart.generate_invoice(user2))"
   ]
  },
  {
   "cell_type": "markdown",
   "id": "e965a22e-8144-47db-8675-422b9332b239",
   "metadata": {},
   "source": [
    "6. Bonus Challenge\n",
    "   \n",
    "In this case each user share the same cart, which is useless. Also each user can register himself/herself as a premium user, which is not practical again. So, you have to add following two additional features to the above program, to make it more real:\n",
    "\n",
    "Cart for a user should be independent from other users\n",
    "Add a new admin feature `is_admin` that takes in boolean values `[True, False],` and only admin should be allowed to create other admins and set `is_premium=True` for other users"
   ]
  },
  {
   "cell_type": "code",
   "execution_count": 86,
   "id": "64741ca5-a206-4649-8142-8e47b0077fe5",
   "metadata": {},
   "outputs": [],
   "source": [
    "def set_premium(self, user):\n",
    "    if self.is_admin:\n",
    "        user.is_premium = True\n",
    "        print(f\"{user.name} is now a premium user!\")\n",
    "    else:\n",
    "        print(f\"Error: {self.name} is not an admin and cannot set premium status.\")\n",
    "\n",
    "def create_admin(self, user):\n",
    "    if self.is_admin:\n",
    "        user.is_admin = True\n",
    "        print(f\"{user.name} is now an admin!\")\n",
    "    else:\n",
    "        print(f\"Error: {self.name} is not an admin and cannot create admins.\")\n",
    "\n"
   ]
  },
  {
   "cell_type": "code",
   "execution_count": 87,
   "id": "9f0044aa-3f5f-41c7-8c92-d0f0af9fc268",
   "metadata": {},
   "outputs": [],
   "source": [
    "admin = User(\"Alice\", is_admin=True)\n",
    "user1 = User(\"Bob\")\n",
    "user2 = User(\"Charlie\")"
   ]
  },
  {
   "cell_type": "code",
   "execution_count": 88,
   "id": "8ebb1aee-48fb-4b96-a831-22c8b9919d7d",
   "metadata": {},
   "outputs": [
    {
     "ename": "AttributeError",
     "evalue": "'User' object has no attribute 'set_premium'",
     "output_type": "error",
     "traceback": [
      "\u001b[1;31m---------------------------------------------------------------------------\u001b[0m",
      "\u001b[1;31mAttributeError\u001b[0m                            Traceback (most recent call last)",
      "Cell \u001b[1;32mIn[88], line 1\u001b[0m\n\u001b[1;32m----> 1\u001b[0m admin\u001b[38;5;241m.\u001b[39mset_premium(user1) \n\u001b[0;32m      2\u001b[0m admin\u001b[38;5;241m.\u001b[39mcreate_admin(user2)\n",
      "\u001b[1;31mAttributeError\u001b[0m: 'User' object has no attribute 'set_premium'"
     ]
    }
   ],
   "source": [
    "admin.set_premium(user1) \n",
    "admin.create_admin(user2)"
   ]
  },
  {
   "cell_type": "code",
   "execution_count": 89,
   "id": "73c9cbad-6c2d-4b3b-9279-24fc8a1cabd1",
   "metadata": {},
   "outputs": [
    {
     "name": "stdout",
     "output_type": "stream",
     "text": [
      "| Invoice for Bob:\n",
      "====================\n",
      "Pizza: $15\n",
      "-----------------------\n",
      "Sub-Total: $15\n",
      "Discount (10%): $0\n",
      "-----------------------\n",
      "Total: $15\n"
     ]
    }
   ],
   "source": [
    "user1.cart.add_product(type(\"Product\", (), {\"name\": \"Pizza\", \"price\": 15})()) \n",
    "print(user1.cart.generate_invoice(user1))"
   ]
  },
  {
   "cell_type": "code",
   "execution_count": null,
   "id": "559aad7c-723c-43b3-9ffc-1929cf507608",
   "metadata": {},
   "outputs": [],
   "source": []
  },
  {
   "cell_type": "code",
   "execution_count": null,
   "id": "47a0ffb8-56a9-4490-b8c4-bdf6d9becb02",
   "metadata": {},
   "outputs": [],
   "source": []
  }
 ],
 "metadata": {
  "kernelspec": {
   "display_name": "Python 3 (ipykernel)",
   "language": "python",
   "name": "python3"
  },
  "language_info": {
   "codemirror_mode": {
    "name": "ipython",
    "version": 3
   },
   "file_extension": ".py",
   "mimetype": "text/x-python",
   "name": "python",
   "nbconvert_exporter": "python",
   "pygments_lexer": "ipython3",
   "version": "3.12.7"
  }
 },
 "nbformat": 4,
 "nbformat_minor": 5
}
