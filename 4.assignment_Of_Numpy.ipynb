{
 "cells": [
  {
   "cell_type": "markdown",
   "id": "2bcc4a7b-9b05-4e2b-8e27-deb4097273c1",
   "metadata": {},
   "source": [
    "# Assignment: Introduction to Linear Algebra and NumPy\n",
    "## Objective:\n",
    "This assignment will help you build a solid understanding of basic Linear Algebra concepts using Python and the NumPy library. You'll learn to create and manipulate arrays, perform mathematical operations, and explore properties and methods of arrays.\n",
    "\n",
    "# Working with NumPy\n",
    "NumPy is a powerful Python library for numerical computations, which allows easy manipulation of arrays and matrices.\n",
    "\n",
    "### Task 1:\n",
    "\n",
    "* Import the `numpy` library and check its version."
   ]
  },
  {
   "cell_type": "code",
   "execution_count": 1,
   "id": "490f8f0b-2cf5-4d36-a76d-00681fccec7c",
   "metadata": {},
   "outputs": [
    {
     "name": "stdout",
     "output_type": "stream",
     "text": [
      "1.26.4\n"
     ]
    }
   ],
   "source": [
    "import numpy as np\n",
    "print(np.__version__)"
   ]
  },
  {
   "cell_type": "markdown",
   "id": "260e8fea-72e2-4ca1-bda9-86ae9e48ebf2",
   "metadata": {},
   "source": [
    "## Creating a NumPy Array:\n",
    "NumPy arrays are a powerful way to store and process large datasets. In this section, you will learn to create arrays.\n",
    "\n",
    "### Task 2:\n",
    "\n",
    "* Create a 1D NumPy array from a Python list of numbers: `[1, 2, 3, 4, 5]`.\n",
    "* Create a 2D NumPy array of shape (3x3) using the numbers from 1 to 9.\n",
    "* Generate an array of 10 evenly spaced values between 0 and 5."
   ]
  },
  {
   "cell_type": "code",
   "execution_count": 3,
   "id": "b07bbf34-404f-4056-83b9-fee2d78d08cb",
   "metadata": {},
   "outputs": [
    {
     "data": {
      "text/plain": [
       "array([1, 2, 3, 4, 5])"
      ]
     },
     "execution_count": 3,
     "metadata": {},
     "output_type": "execute_result"
    }
   ],
   "source": [
    "# Create a 1D NumPy array from a Python list of numbers: [1, 2, 3, 4, 5].\n",
    "one_D = np.array([1,2,3,4,5])\n",
    "one_D"
   ]
  },
  {
   "cell_type": "code",
   "execution_count": 4,
   "id": "88ad59de-acb7-4c8d-886c-bb1a70c1cec2",
   "metadata": {},
   "outputs": [
    {
     "data": {
      "text/plain": [
       "(5,)"
      ]
     },
     "execution_count": 4,
     "metadata": {},
     "output_type": "execute_result"
    }
   ],
   "source": [
    "one_D.shape"
   ]
  },
  {
   "cell_type": "code",
   "execution_count": 5,
   "id": "e273c7ef-b930-4f5f-a888-c08957408d6a",
   "metadata": {},
   "outputs": [
    {
     "data": {
      "text/plain": [
       "1"
      ]
     },
     "execution_count": 5,
     "metadata": {},
     "output_type": "execute_result"
    }
   ],
   "source": [
    "one_D.ndim"
   ]
  },
  {
   "cell_type": "code",
   "execution_count": 14,
   "id": "dcce9f2e-9030-4cb7-8ce1-6d9a418565d0",
   "metadata": {},
   "outputs": [
    {
     "data": {
      "text/plain": [
       "array([[[8, 7, 8],\n",
       "        [5, 2, 6],\n",
       "        [8, 4, 6]],\n",
       "\n",
       "       [[3, 8, 1],\n",
       "        [5, 1, 8],\n",
       "        [2, 2, 7]],\n",
       "\n",
       "       [[3, 5, 8],\n",
       "        [6, 2, 2],\n",
       "        [1, 5, 3]]])"
      ]
     },
     "execution_count": 14,
     "metadata": {},
     "output_type": "execute_result"
    }
   ],
   "source": [
    "# Create a 2D NumPy array of shape (3x3) using the numbers from 1 to 9.\n",
    "three_D = np.random.randint(1,9,(3,3,3))\n",
    "three_D"
   ]
  },
  {
   "cell_type": "code",
   "execution_count": 15,
   "id": "bc686ec4-66a8-40f5-8f2a-a140a120ea58",
   "metadata": {},
   "outputs": [
    {
     "data": {
      "text/plain": [
       "3"
      ]
     },
     "execution_count": 15,
     "metadata": {},
     "output_type": "execute_result"
    }
   ],
   "source": [
    "three_D.ndim"
   ]
  },
  {
   "cell_type": "code",
   "execution_count": 19,
   "id": "daaf4680-f0c2-4663-a0fc-6ea5aed79510",
   "metadata": {},
   "outputs": [
    {
     "data": {
      "text/plain": [
       "array([0.        , 0.55555556, 1.11111111, 1.66666667, 2.22222222,\n",
       "       2.77777778, 3.33333333, 3.88888889, 4.44444444, 5.        ])"
      ]
     },
     "execution_count": 19,
     "metadata": {},
     "output_type": "execute_result"
    }
   ],
   "source": [
    "# Generate an array of 10 evenly spaced values between 0 and 5.\n",
    "# np.linspace(start, stop, num)\n",
    "arr = np.linspace(0,5,10)\n",
    "arr"
   ]
  },
  {
   "cell_type": "markdown",
   "id": "9ea14660-3240-4432-b213-a95424883e86",
   "metadata": {},
   "source": [
    "# Indexing and Slicing Arrays:\n",
    "Indexing and slicing allow you to access and modify specific elements of an array.\n",
    "\n",
    "### Task 3:\n",
    "\n",
    "* Access the element in the second row, third column of the 2D array you created above.\n",
    "* Slice the first two rows and the first two columns from the same array.\n",
    "* Modify the value in the last row and first column to 100."
   ]
  },
  {
   "cell_type": "code",
   "execution_count": 41,
   "id": "0c4ef2db-14e4-4d77-b754-ada2d93723ff",
   "metadata": {},
   "outputs": [
    {
     "data": {
      "text/plain": [
       "array([[5, 7, 1, 4, 2],\n",
       "       [3, 2, 7, 2, 8],\n",
       "       [2, 8, 2, 4, 7],\n",
       "       [7, 0, 7, 1, 8],\n",
       "       [1, 5, 0, 0, 4]])"
      ]
     },
     "execution_count": 41,
     "metadata": {},
     "output_type": "execute_result"
    }
   ],
   "source": [
    "# Access the element in the second row, third column of the 2D array you created above.\n",
    "arr = np.random.randint(0,9,[5,5])\n",
    "arr\n"
   ]
  },
  {
   "cell_type": "code",
   "execution_count": 42,
   "id": "de3bbd2b-bab5-4a79-88f4-766782d2ecc5",
   "metadata": {},
   "outputs": [
    {
     "data": {
      "text/plain": [
       "2"
      ]
     },
     "execution_count": 42,
     "metadata": {},
     "output_type": "execute_result"
    }
   ],
   "source": [
    "arr.ndim"
   ]
  },
  {
   "cell_type": "code",
   "execution_count": 43,
   "id": "837b3cec-92b8-481c-bdf6-f33febdc535d",
   "metadata": {},
   "outputs": [
    {
     "data": {
      "text/plain": [
       "7"
      ]
     },
     "execution_count": 43,
     "metadata": {},
     "output_type": "execute_result"
    }
   ],
   "source": [
    "element =arr[1,2]\n",
    "element"
   ]
  },
  {
   "cell_type": "code",
   "execution_count": 44,
   "id": "5f9f7f09-e165-45bd-86c7-aa8fb406e50a",
   "metadata": {},
   "outputs": [
    {
     "data": {
      "text/plain": [
       "array([[5, 7],\n",
       "       [3, 2]])"
      ]
     },
     "execution_count": 44,
     "metadata": {},
     "output_type": "execute_result"
    }
   ],
   "source": [
    "# Slice the first two rows and the first two columns from the same array.\n",
    "arr[:2,:2]"
   ]
  },
  {
   "cell_type": "code",
   "execution_count": 47,
   "id": "2ac91599-0bac-4de1-bf97-438dbe474ed5",
   "metadata": {},
   "outputs": [
    {
     "data": {
      "text/plain": [
       "array([[  5,   7,   1,   4,   2],\n",
       "       [  3,   2,   7,   2,   8],\n",
       "       [  2,   8,   2,   4,   7],\n",
       "       [  7,   0,   7,   1,   8],\n",
       "       [100,   5,   0,   0,   4]])"
      ]
     },
     "execution_count": 47,
     "metadata": {},
     "output_type": "execute_result"
    }
   ],
   "source": [
    "# Modify the value in the last row and first column to 100.\n",
    "arr[-1,0]=100\n",
    "arr"
   ]
  },
  {
   "cell_type": "markdown",
   "id": "59a3748e-5c59-4b07-ba2d-c8e5075ee09e",
   "metadata": {},
   "source": [
    "# Properties and Methods of NumPy Arrays\n",
    "NumPy arrays have several useful properties and methods.\n",
    "\n",
    "### Task 4:\n",
    "\n",
    "* Find the shape, size, and data type of the 2D array.\n",
    "* Change the 1D array into a 2D array of shape (5,1).\n",
    "* Flatten a multi-dimensional array back into a 1D array."
   ]
  },
  {
   "cell_type": "code",
   "execution_count": 50,
   "id": "f9747759-127e-43ec-8914-a4ba7e409080",
   "metadata": {},
   "outputs": [
    {
     "data": {
      "text/plain": [
       "array([[1, 2, 3],\n",
       "       [5, 6, 7]])"
      ]
     },
     "execution_count": 50,
     "metadata": {},
     "output_type": "execute_result"
    }
   ],
   "source": [
    "pm = np.array([[1,2,3],[5,6,7]])\n",
    "pm"
   ]
  },
  {
   "cell_type": "code",
   "execution_count": 55,
   "id": "3754c435-2ef6-4de8-9d64-53a8070a2059",
   "metadata": {},
   "outputs": [
    {
     "name": "stdout",
     "output_type": "stream",
     "text": [
      "(2, 3)\n",
      "6\n",
      "int32\n"
     ]
    }
   ],
   "source": [
    "# Find the shape, size, and data type of the 2D array.\n",
    "print ( pm.shape)\n",
    "print(pm.size)\n",
    "print(pm.dtype)"
   ]
  },
  {
   "cell_type": "code",
   "execution_count": 56,
   "id": "21b7b75d-c8a9-4fc3-bb1e-44f41d1ec595",
   "metadata": {},
   "outputs": [
    {
     "data": {
      "text/plain": [
       "array([[1],\n",
       "       [4],\n",
       "       [5],\n",
       "       [6],\n",
       "       [7]])"
      ]
     },
     "execution_count": 56,
     "metadata": {},
     "output_type": "execute_result"
    }
   ],
   "source": [
    "# Change the 1D array into a 2D array of shape (5,1).\n",
    "one_d = np.array([1,4,5,6,7])\n",
    "one_d.reshape(5,1)"
   ]
  },
  {
   "cell_type": "code",
   "execution_count": 57,
   "id": "e952f28a-dc85-4680-bbf3-b05a9572f224",
   "metadata": {},
   "outputs": [
    {
     "data": {
      "text/plain": [
       "(5,)"
      ]
     },
     "execution_count": 57,
     "metadata": {},
     "output_type": "execute_result"
    }
   ],
   "source": [
    "one_d.shape"
   ]
  },
  {
   "cell_type": "markdown",
   "id": "b66dd304-edb3-4b02-87d2-709847b1588d",
   "metadata": {},
   "source": [
    "The .flatten() method in NumPy converts a multi-dimensional array into a 1D array, meaning it collapses all the dimensions into a single dimension, keeping the elements in the same order.\n",
    "\n",
    "Key Points:\n",
    "* The method returns a copy of the original array.\n",
    "* It does not modify the original array."
   ]
  },
  {
   "cell_type": "code",
   "execution_count": 59,
   "id": "def25f5d-f165-438f-b0da-5972c1604e52",
   "metadata": {},
   "outputs": [
    {
     "data": {
      "text/plain": [
       "(5,)"
      ]
     },
     "execution_count": 59,
     "metadata": {},
     "output_type": "execute_result"
    }
   ],
   "source": [
    "# Flatten a multi-dimensional array back into a 1D array.\n",
    "one_d.flatten()\n",
    "one_d.shape"
   ]
  },
  {
   "cell_type": "markdown",
   "id": "4101cd5a-4be0-4eac-9b9b-baabde056a01",
   "metadata": {},
   "source": [
    "# Operations on NumPy Arrays\n",
    "Perform operations such as addition, subtraction, multiplication, and matrix multiplication on arrays.\n",
    "\n",
    "### Task 5:\n",
    "\n",
    "* Add 5 to every element in the 1D array.\n",
    "* Multiply the 2D array by 3.\n",
    "* Perform matrix multiplication between the following two arrays:\n",
    "  \n",
    "   A = np.array([[1, 2], [3, 4]])\n",
    "  \n",
    "   B = np.array([[5, 6], [7, 8]])"
   ]
  },
  {
   "cell_type": "code",
   "execution_count": 70,
   "id": "e673d988-3157-4095-9a90-c46d7977b7a5",
   "metadata": {},
   "outputs": [
    {
     "name": "stdout",
     "output_type": "stream",
     "text": [
      "[1 4 5 7 8 9 6]\n"
     ]
    },
    {
     "data": {
      "text/plain": [
       "array([ 6,  9, 10, 12, 13, 14, 11])"
      ]
     },
     "execution_count": 70,
     "metadata": {},
     "output_type": "execute_result"
    }
   ],
   "source": [
    "# Add 5 to every element in the 1D array.\n",
    "arr1 = np.array([1,4,5,7,8,9,6])\n",
    "print(arr1)\n",
    "add= arr1+5\n",
    "add"
   ]
  },
  {
   "cell_type": "code",
   "execution_count": 73,
   "id": "ef781653-4fdc-4cf9-a664-d5600cff1022",
   "metadata": {},
   "outputs": [
    {
     "name": "stdout",
     "output_type": "stream",
     "text": [
      "[[1 4 6 8]\n",
      " [4 8 9 6]]\n"
     ]
    },
    {
     "data": {
      "text/plain": [
       "array([[ 3, 12, 18, 24],\n",
       "       [12, 24, 27, 18]])"
      ]
     },
     "execution_count": 73,
     "metadata": {},
     "output_type": "execute_result"
    }
   ],
   "source": [
    "# Multiply the 2D array by 3.\n",
    "arr2 = np.array([[1,4,6,8],[4,8,9,6]])\n",
    "print(arr2)\n",
    "multi = arr2 * 3\n",
    "multi"
   ]
  },
  {
   "cell_type": "code",
   "execution_count": 80,
   "id": "631a13dd-45eb-4c38-a547-11080924591c",
   "metadata": {},
   "outputs": [
    {
     "data": {
      "text/plain": [
       "array([[19, 22],\n",
       "       [43, 50]])"
      ]
     },
     "execution_count": 80,
     "metadata": {},
     "output_type": "execute_result"
    }
   ],
   "source": [
    "# Perform matrix multiplication between the following two arrays:\n",
    "\n",
    "A = np.array([[1, 2], [3, 4]])\n",
    "B = np.array([[5, 6], [7, 8]])\n",
    "\n",
    "multi1 = np.dot(A,B)\n",
    "multi1\n",
    "\n"
   ]
  },
  {
   "cell_type": "code",
   "execution_count": null,
   "id": "bc414e33-c14f-4187-a412-74f35fbb000a",
   "metadata": {},
   "outputs": [],
   "source": []
  },
  {
   "cell_type": "markdown",
   "id": "9d3b095b-425e-4488-9903-175d022e1991",
   "metadata": {},
   "source": [
    "# Understanding Broadcasting\n",
    "Broadcasting allows NumPy to work with arrays of different shapes during arithmetic operations.\n",
    "\n",
    "### Task 6:\n",
    "\n",
    "* Create a 3x3 matrix of ones and a 1D array of length 3.\n",
    "* Add the 1D array to each row of the matrix using broadcasting."
   ]
  },
  {
   "cell_type": "code",
   "execution_count": 87,
   "id": "09755179-965b-4ffc-bfe1-f60dbe3216d2",
   "metadata": {},
   "outputs": [
    {
     "data": {
      "text/plain": [
       "array([[1., 1., 1.],\n",
       "       [1., 1., 1.],\n",
       "       [1., 1., 1.]])"
      ]
     },
     "execution_count": 87,
     "metadata": {},
     "output_type": "execute_result"
    }
   ],
   "source": [
    "arr = np.ones([3,3])\n",
    "arr"
   ]
  },
  {
   "cell_type": "code",
   "execution_count": 88,
   "id": "7d991cf9-1061-4802-8a09-02f351ed4417",
   "metadata": {},
   "outputs": [
    {
     "data": {
      "text/plain": [
       "array([1, 2, 3])"
      ]
     },
     "execution_count": 88,
     "metadata": {},
     "output_type": "execute_result"
    }
   ],
   "source": [
    "array = np.array([1,2,3])\n",
    "array"
   ]
  },
  {
   "cell_type": "code",
   "execution_count": 90,
   "id": "dfd73a71-3d07-4e70-bcfc-f256f4fee395",
   "metadata": {},
   "outputs": [
    {
     "data": {
      "text/plain": [
       "array([[2., 3., 4.],\n",
       "       [2., 3., 4.],\n",
       "       [2., 3., 4.]])"
      ]
     },
     "execution_count": 90,
     "metadata": {},
     "output_type": "execute_result"
    }
   ],
   "source": [
    "result=arr+array\n",
    "result"
   ]
  },
  {
   "cell_type": "code",
   "execution_count": null,
   "id": "b2cc4b60-7177-48a3-92ec-f1ad9e2eef03",
   "metadata": {},
   "outputs": [],
   "source": []
  },
  {
   "cell_type": "code",
   "execution_count": null,
   "id": "4fea78b2-c172-4f9f-ab55-9d926a084b0f",
   "metadata": {},
   "outputs": [],
   "source": []
  }
 ],
 "metadata": {
  "kernelspec": {
   "display_name": "Python 3 (ipykernel)",
   "language": "python",
   "name": "python3"
  },
  "language_info": {
   "codemirror_mode": {
    "name": "ipython",
    "version": 3
   },
   "file_extension": ".py",
   "mimetype": "text/x-python",
   "name": "python",
   "nbconvert_exporter": "python",
   "pygments_lexer": "ipython3",
   "version": "3.12.7"
  }
 },
 "nbformat": 4,
 "nbformat_minor": 5
}
