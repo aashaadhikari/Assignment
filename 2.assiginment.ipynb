{
 "cells": [
  {
   "cell_type": "markdown",
   "id": "22c70137-a1ec-45d7-bc20-2528efe1886b",
   "metadata": {},
   "source": [
    "### Question : Check for Palindrome\n",
    "Write a Python program using a lambda function to check if a given string is a palindrome.\n",
    "\n",
    "Example:\n",
    "\n",
    "Input: `\"level\"`\n",
    "\n",
    "Output: `True`\n",
    "\n",
    "#### Solution"
   ]
  },
  {
   "cell_type": "code",
   "execution_count": 18,
   "id": "5b053ae6-896c-451b-843b-2deb00a649ea",
   "metadata": {},
   "outputs": [
    {
     "name": "stdout",
     "output_type": "stream",
     "text": [
      "True\n"
     ]
    }
   ],
   "source": [
    "word = \"level\"\n",
    "palindrome = lambda word: word == word[::-1] \n",
    "#print(\"\".join(palindrome))\n",
    "if palindrome(word):\n",
    "    print(\"True\")\n",
    "\n",
    "else:\n",
    "    print(\"false\")\n"
   ]
  },
  {
   "cell_type": "code",
   "execution_count": 14,
   "id": "90f9d921-3ccb-405e-ae8a-77352bb972e5",
   "metadata": {},
   "outputs": [
    {
     "name": "stdin",
     "output_type": "stream",
     "text": [
      "Enter a string:  level\n"
     ]
    },
    {
     "name": "stdout",
     "output_type": "stream",
     "text": [
      "\"level\" is a palindrome!\n"
     ]
    }
   ],
   "source": [
    "is_palindrome = lambda s: s == s[::-1]\n",
    "string = input(\"Enter a string: \")\n",
    "if is_palindrome(string):\n",
    "    print(f'\"{string}\" is a palindrome!')\n",
    "else:\n",
    "    print(f'\"{string}\" is not a palindrome.')"
   ]
  },
  {
   "cell_type": "code",
   "execution_count": 3,
   "id": "ab1bfa48-b284-4da6-9e6d-29e256395f31",
   "metadata": {},
   "outputs": [
    {
     "name": "stdout",
     "output_type": "stream",
     "text": [
      "True\n"
     ]
    }
   ],
   "source": [
    "word =\"12321\"\n",
    "palindrome = lambda word: \"\".join(reversed(word))\n",
    "if palindrome(word) == word:\n",
    "    print(\"True\")\n",
    "\n",
    "else: \n",
    "    print(\"False\")"
   ]
  },
  {
   "cell_type": "markdown",
   "id": "6fc5273e-966d-49d7-8139-48108522af3a",
   "metadata": {},
   "source": [
    "### Question: \n",
    "Write a Python program to check whether a given number is an Armstrong number or not.\n",
    "\n",
    "**Definition:**\n",
    "An **Armstrong number** (also known as a **narcissistic number**) is a number that is equal to the sum of its own digits each raised to the power of the number of digits. For example:\n",
    "- 153 is an Armstrong number because \\( 1^3 + 5^3 + 3^3 = 153 \\).\n",
    "- 9474 is an Armstrong number because \\( 9^4 + 4^4 + 7^4 + 4^4 = 9474 \\).\n",
    "\n",
    "**Input:**  \n",
    "An integer (e.g., 153).\n",
    "\n",
    "**Output:**  \n",
    "Output \"Yes, it's an Armstrong number.\" if the number is an Armstrong number. Otherwise, output \"No, it's not an Armstrong number.\"\n",
    "\n",
    "**Constraints:**  \n",
    "- The input should be a positive integer.  \n"
   ]
  },
  {
   "cell_type": "markdown",
   "id": "dfd2404c-36dc-4def-9e09-994533475480",
   "metadata": {},
   "source": [
    "####   Convert to String and Iterate"
   ]
  },
  {
   "cell_type": "code",
   "execution_count": null,
   "id": "e809800e-9c0d-44d9-adc8-0c5984587257",
   "metadata": {},
   "outputs": [],
   "source": [
    "number = 153\n",
    "digits = [int(digit) for digit in str(number)]\n",
    "print(digits)  # Output: [1, 5, 3]"
   ]
  },
  {
   "cell_type": "code",
   "execution_count": 44,
   "id": "fad29371-e409-48a5-af2f-ab5f584568da",
   "metadata": {},
   "outputs": [
    {
     "name": "stdin",
     "output_type": "stream",
     "text": [
      "Enter the number: 153\n"
     ]
    },
    {
     "name": "stdout",
     "output_type": "stream",
     "text": [
      "3\n",
      "False\n"
     ]
    }
   ],
   "source": [
    "number = input(\"Enter the number:\")\n",
    "count = len(number)\n",
    "print(count)\n",
    "\n",
    "armstrong_sum = 0\n",
    "for digit in number:\n",
    "    armstrong_sum += int(digit) ** count\n",
    "if armstrong_sum == int(number):\n",
    "    print(\"True\")\n",
    "else:\n",
    "    print(\"False\")\n"
   ]
  },
  {
   "cell_type": "code",
   "execution_count": 36,
   "id": "3d341fb3-5302-4fa1-af0d-1dce5869940f",
   "metadata": {},
   "outputs": [
    {
     "name": "stdin",
     "output_type": "stream",
     "text": [
      "Enter the number: 153\n"
     ]
    },
    {
     "name": "stdout",
     "output_type": "stream",
     "text": [
      "3\n",
      "true\n"
     ]
    }
   ],
   "source": [
    "number = input(\"Enter the number:\")\n",
    "count = len(number)\n",
    "print(count)\n",
    "\n",
    "Armstrong = sum(int(digit) ** count for digit in number)\n",
    "if Armstrong == int(number):\n",
    "    print(\"true\")\n",
    "\n",
    "else:\n",
    "    print(\"False\")\n"
   ]
  },
  {
   "cell_type": "code",
   "execution_count": null,
   "id": "9dc3d617-715c-4dce-b608-0ccac8c735a5",
   "metadata": {},
   "outputs": [],
   "source": []
  },
  {
   "cell_type": "markdown",
   "id": "eaece646-5321-40bf-815e-d7fd4877a246",
   "metadata": {},
   "source": [
    "### Question: File Read and Write\n",
    "**Write a Program that Uses Functions `write_to_file` and `read_from_file`**:\n",
    "- `write_to_file(filename, content)`: Writes `content` to a file named `filename`. If the file doesn't exist, it should be created.\n",
    "- `read_from_file(filename)`: Reads and prints the content of a file named `filename`.\n",
    "Call `write_to_file` to write \"Hello, Python!\" to a file named \"greetings.txt\", then call `read_from_file` to read and print the content of this file."
   ]
  },
  {
   "cell_type": "code",
   "execution_count": 4,
   "id": "39c12986-5d82-4d36-8348-1c32b94390a4",
   "metadata": {},
   "outputs": [],
   "source": [
    "def write_to_file(filename, content):\n",
    "    with open(filename, mode = \"w\") as file:\n",
    "        file.write(content)\n",
    "        file.close()\n",
    "\n",
    "def read_from_file(filename):\n",
    "    with open(filename, mode=\"r\") as file:\n",
    "        print(file.read())\n",
    "\n",
    "write_to_file(\"greetings.txt\", \"Hello, Python\")"
   ]
  },
  {
   "cell_type": "code",
   "execution_count": 5,
   "id": "e6d988ea-99e8-4bb4-b255-2a09e8aa78f2",
   "metadata": {},
   "outputs": [
    {
     "ename": "FileNotFoundError",
     "evalue": "[Errno 2] No such file or directory: 'greeting.txt'",
     "output_type": "error",
     "traceback": [
      "\u001b[1;31m---------------------------------------------------------------------------\u001b[0m",
      "\u001b[1;31mFileNotFoundError\u001b[0m                         Traceback (most recent call last)",
      "Cell \u001b[1;32mIn[5], line 1\u001b[0m\n\u001b[1;32m----> 1\u001b[0m read_from_file(\u001b[38;5;124m\"\u001b[39m\u001b[38;5;124mgreeting.txt\u001b[39m\u001b[38;5;124m\"\u001b[39m)\n",
      "Cell \u001b[1;32mIn[4], line 7\u001b[0m, in \u001b[0;36mread_from_file\u001b[1;34m(filename)\u001b[0m\n\u001b[0;32m      6\u001b[0m \u001b[38;5;28;01mdef\u001b[39;00m \u001b[38;5;21mread_from_file\u001b[39m(filename):\n\u001b[1;32m----> 7\u001b[0m     \u001b[38;5;28;01mwith\u001b[39;00m \u001b[38;5;28mopen\u001b[39m(filename, mode\u001b[38;5;241m=\u001b[39m\u001b[38;5;124m\"\u001b[39m\u001b[38;5;124mr\u001b[39m\u001b[38;5;124m\"\u001b[39m) \u001b[38;5;28;01mas\u001b[39;00m file:\n\u001b[0;32m      8\u001b[0m         \u001b[38;5;28mprint\u001b[39m(file\u001b[38;5;241m.\u001b[39mread())\n",
      "File \u001b[1;32mC:\\ProgramData\\anaconda3\\Lib\\site-packages\\IPython\\core\\interactiveshell.py:324\u001b[0m, in \u001b[0;36m_modified_open\u001b[1;34m(file, *args, **kwargs)\u001b[0m\n\u001b[0;32m    317\u001b[0m \u001b[38;5;28;01mif\u001b[39;00m file \u001b[38;5;129;01min\u001b[39;00m {\u001b[38;5;241m0\u001b[39m, \u001b[38;5;241m1\u001b[39m, \u001b[38;5;241m2\u001b[39m}:\n\u001b[0;32m    318\u001b[0m     \u001b[38;5;28;01mraise\u001b[39;00m \u001b[38;5;167;01mValueError\u001b[39;00m(\n\u001b[0;32m    319\u001b[0m         \u001b[38;5;124mf\u001b[39m\u001b[38;5;124m\"\u001b[39m\u001b[38;5;124mIPython won\u001b[39m\u001b[38;5;124m'\u001b[39m\u001b[38;5;124mt let you open fd=\u001b[39m\u001b[38;5;132;01m{\u001b[39;00mfile\u001b[38;5;132;01m}\u001b[39;00m\u001b[38;5;124m by default \u001b[39m\u001b[38;5;124m\"\u001b[39m\n\u001b[0;32m    320\u001b[0m         \u001b[38;5;124m\"\u001b[39m\u001b[38;5;124mas it is likely to crash IPython. If you know what you are doing, \u001b[39m\u001b[38;5;124m\"\u001b[39m\n\u001b[0;32m    321\u001b[0m         \u001b[38;5;124m\"\u001b[39m\u001b[38;5;124myou can use builtins\u001b[39m\u001b[38;5;124m'\u001b[39m\u001b[38;5;124m open.\u001b[39m\u001b[38;5;124m\"\u001b[39m\n\u001b[0;32m    322\u001b[0m     )\n\u001b[1;32m--> 324\u001b[0m \u001b[38;5;28;01mreturn\u001b[39;00m io_open(file, \u001b[38;5;241m*\u001b[39margs, \u001b[38;5;241m*\u001b[39m\u001b[38;5;241m*\u001b[39mkwargs)\n",
      "\u001b[1;31mFileNotFoundError\u001b[0m: [Errno 2] No such file or directory: 'greeting.txt'"
     ]
    }
   ],
   "source": [
    "read_from_file(\"greeting.txt\")"
   ]
  },
  {
   "cell_type": "markdown",
   "id": "caf664af-4179-4bb7-ad4a-e877749d8d3a",
   "metadata": {},
   "source": [
    "### Scenario:\n",
    "\n",
    "You are tasked with designing a system for a **vehicle rental company**. The company rents out various types of vehicles like **Cars** and **Bikes**, and each vehicle has some shared characteristics but also some distinct ones. \n",
    "\n",
    "### Requirements:\n",
    "1. Each **Vehicle** has attributes such as:\n",
    "   - `vehicle_id`: A unique identifier for the vehicle.\n",
    "   - `brand`: The brand of the vehicle.\n",
    "   - `rental_price`: Price per day to rent the vehicle.\n",
    "\n",
    "2. Both **Car** and **Bike** are types of **Vehicles**.  \n",
    "   - A **Car** has an additional attribute: `number_of_doors`.  \n",
    "   - A **Bike** has an additional attribute: `bike_type` (e.g., mountain bike, racing bike).\n",
    "\n",
    "3. You should provide methods to:\n",
    "   - **Calculate total rental cost**: Given the number of rental days, calculate the total cost for any vehicle.\n",
    "   - **Display vehicle details**: For both cars and bikes, display details including the unique attributes (e.g., `number_of_doors` for cars, `bike_type` for bikes).\n",
    "\n",
    "4. Implement the following OOP concepts:\n",
    "   - **Abstraction**: Provide a clean interface for calculating the total rental cost and displaying vehicle details, hiding the internal logic.\n",
    "   - **Inheritance**: Both **Car** and **Bike** should inherit common functionality from the **Vehicle** class.\n",
    "   -  - **Polymorphism**: Use method overriding so that the method for displaying vehicle details works differently for cars and bikes.\n",
    "\n",
    "---\n",
    "\n",
    "### Task:\n",
    "\n",
    "1. **Define a `Vehicle` base class** that implements the common attributes and methods.\n",
    "2. **Define two subclasses `Car` and `Bike`** that inherit from `Vehicle` and implement their specific attributes.\n",
    "3. Use encapsulation by making attributes private and providing public methods to interact with them.\n",
    "4. Use polymorphism to create a `display_details` method that behaves differently for `Car` and `Bike`.\n"
   ]
  },
  {
   "cell_type": "markdown",
   "id": "c31f2322-19ca-40b5-ac89-e6be64e3dd50",
   "metadata": {},
   "source": [
    "# Inheritance:"
   ]
  },
  {
   "cell_type": "code",
   "execution_count": 6,
   "id": "8b451401-ff60-4efc-82d3-6f4120acb42c",
   "metadata": {},
   "outputs": [],
   "source": [
    "class Vehicle:\n",
    "    def __init__(self, vehical_id, brand, rental_price):\n",
    "        self.vehical_id = vehical_id\n",
    "        self.brand = brand\n",
    "        self.rental_price = rental_price\n",
    "\n",
    "    def cost_of_rental(self, day):\n",
    "        \n",
    "        self.day = day\n",
    "        total_cost = self.rental_price * self.day\n",
    "        print(f\" the total cost of renting Vehical for {self.day} days is: {total_cost}\")\n",
    "        \n",
    "        \n",
    "class Car(Vehicle):\n",
    "    def __init__(self, vehical_id, brand, rental_price, number_of_doors ):\n",
    "        super().__init__( vehical_id, brand, rental_price)\n",
    "        self.number_of_doors = number_of_doors\n",
    "\n",
    "    def display_details(self):\n",
    "        print(f\" total number of car doors is {self.number_of_doors}.\\n Vehical id is {self.vehical_id}. \\n brand name is {self.brand}\")\n",
    "        \n",
    "class Bike(Vehicle):   \n",
    "    def __init__(self, vehical_id, brand, rental_price, bike_types ):\n",
    "        super().__init__( vehical_id, brand, rental_price)\n",
    "        self.bike_types = bike_types\n",
    "\n",
    "    def display_details(self):\n",
    "        print(f\" Types of bike  is {self.bike_types}.\\n Vehical id is {self.vehical_id}. \\n brand name is {self.brand}\")"
   ]
  },
  {
   "cell_type": "code",
   "execution_count": 7,
   "id": "30462cd7-41dc-444a-9f99-d70ab2c588bd",
   "metadata": {},
   "outputs": [],
   "source": [
    "obj = Bike(111,'bikel12',1000, \"Mountain bike\")"
   ]
  },
  {
   "cell_type": "code",
   "execution_count": 8,
   "id": "fd2735a3-dd00-4963-9875-35c1eb6a4c99",
   "metadata": {},
   "outputs": [
    {
     "name": "stdout",
     "output_type": "stream",
     "text": [
      " Types of bike  is Mountain bike.\n",
      " Vehical id is 111. \n",
      " brand name is bikel12\n"
     ]
    }
   ],
   "source": [
    "obj.display_details()"
   ]
  },
  {
   "cell_type": "code",
   "execution_count": 10,
   "id": "b980d2c3-3c71-4b99-9576-b39687b32bc5",
   "metadata": {},
   "outputs": [
    {
     "name": "stdout",
     "output_type": "stream",
     "text": [
      " the total cost of renting Vehical for 4 days is: 4000\n"
     ]
    }
   ],
   "source": [
    "obj.cost_of_rental(4)"
   ]
  },
  {
   "cell_type": "code",
   "execution_count": null,
   "id": "c7db190a-e2f0-4f82-a0ee-eaa9e08989ea",
   "metadata": {},
   "outputs": [],
   "source": []
  }
 ],
 "metadata": {
  "kernelspec": {
   "display_name": "Python 3 (ipykernel)",
   "language": "python",
   "name": "python3"
  },
  "language_info": {
   "codemirror_mode": {
    "name": "ipython",
    "version": 3
   },
   "file_extension": ".py",
   "mimetype": "text/x-python",
   "name": "python",
   "nbconvert_exporter": "python",
   "pygments_lexer": "ipython3",
   "version": "3.12.7"
  }
 },
 "nbformat": 4,
 "nbformat_minor": 5
}
