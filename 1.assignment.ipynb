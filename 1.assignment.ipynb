{
 "cells": [
  {
   "cell_type": "markdown",
   "id": "16656571-2f35-4090-a11e-f4ebc60944bb",
   "metadata": {},
   "source": [
    "# Coding Scenario: Personal Profile and Preferences\n",
    "<b>Objective:</b> You are tasked with creating a Python script to represent and process personal profile information and preferences. This scenario will test your knowledge of strings, integers, lists, tuples, dictionaries, and boolean data types in Python.\n",
    "\n",
    "### Scenario Description:\n",
    "Imagine you are designing a simple profile for a social media application. Each user profile contains basic personal information, a list of favorite hobbies, preferred screen dimensions for viewing the app, and a brief description of their pet.\n",
    "\n",
    "#### Task Instructions:\n",
    "1. Personal Information\n",
    "* Create a variable name (str) to store the user's name.\n",
    "* Create a variable age (int) to store the user's age.\n",
    "* Print a greeting message using these variables, e.g., \"Hello, my name is Alice and I am 30 years old.\""
   ]
  },
  {
   "cell_type": "code",
   "execution_count": 1,
   "id": "45a54ffb-b799-432a-bc0b-391fb9884b53",
   "metadata": {},
   "outputs": [
    {
     "name": "stdout",
     "output_type": "stream",
     "text": [
      "Hello, my name is seema Adhikari and I am 21 years old. \n"
     ]
    }
   ],
   "source": [
    "name = \"seema Adhikari\"\n",
    "age = 21\n",
    "print(f\"Hello, my name is {name} and I am {age} years old. \")"
   ]
  },
  {
   "cell_type": "markdown",
   "id": "c17a51a8-85aa-4999-aa87-9c9cb2fd082d",
   "metadata": {},
   "source": [
    "2. Favorite Hobbies\n",
    "* Create a list favorite_hobbies containing at least three hobbies as strings.\n",
    "* Add another hobby to this list and print the updated list."
   ]
  },
  {
   "cell_type": "code",
   "execution_count": 2,
   "id": "9082f862-0791-409c-be08-380065e0d1a8",
   "metadata": {},
   "outputs": [
    {
     "data": {
      "text/plain": [
       "['Playing cricket', 'reading Book', 'clicking Photos', 'Dancing']"
      ]
     },
     "execution_count": 2,
     "metadata": {},
     "output_type": "execute_result"
    }
   ],
   "source": [
    " favorite_hobbie = [\"Playing cricket\", \"reading Book\", \"clicking Photos\", \"Dancing\"]\n",
    "favorite_hobbie\n"
   ]
  },
  {
   "cell_type": "markdown",
   "id": "82d64cff-cefd-4f09-a42f-2268068d2553",
   "metadata": {},
   "source": [
    "3. Screen Dimensions\n",
    "* Define a tuple screen_dimensions with two integers representing the width and height of the user's preferred screen size for the app.\n",
    "* Attempt to modify one of the values in the tuple to simulate an attempt to change screen preferences and comment on the outcome."
   ]
  },
  {
   "cell_type": "code",
   "execution_count": 3,
   "id": "59c51975-be4d-482d-b4d8-86b6c7681774",
   "metadata": {},
   "outputs": [
    {
     "data": {
      "text/plain": [
       "['Playing cricket',\n",
       " 'reading Book',\n",
       " 'clicking Photos',\n",
       " 'Dancing',\n",
       " 'Programming']"
      ]
     },
     "execution_count": 3,
     "metadata": {},
     "output_type": "execute_result"
    }
   ],
   "source": [
    "favorite_hobbie.append(\"Programming\")\n",
    "favorite_hobbie"
   ]
  },
  {
   "cell_type": "markdown",
   "id": "47013fad-cdb7-495a-9e7c-9697ce532daf",
   "metadata": {},
   "source": [
    "4. Pet Description\n",
    " * Create a dictionary pet to describe the user's pet. It should include keys for type, name, age, and later, color.\n",
    " * Add a color key to the pet dictionary with an appropriate value and print the pet's name and color."
   ]
  },
  {
   "cell_type": "code",
   "execution_count": 4,
   "id": "6a1794fe-397e-44ff-be57-ac0275d6a190",
   "metadata": {},
   "outputs": [
    {
     "name": "stdout",
     "output_type": "stream",
     "text": [
      "Screen width: 1920, Screen height: 1080\n"
     ]
    }
   ],
   "source": [
    "screen_dimensions = (1920, 1080)\n",
    "print(f\"Screen width: {screen_dimensions[0]}, Screen height: {screen_dimensions[1]}\")\n"
   ]
  },
  {
   "cell_type": "markdown",
   "id": "d0504de4-7154-4c16-9c73-c289f434d82c",
   "metadata": {},
   "source": [
    "5. Adult Status\n",
    "* Determine if the user is an adult with a boolean variable is_adult. Consider someone an adult if they are 18 years old or more.\n",
    "* Using conditional logic, print \"I am an adult.\" if true, and \"I am not an adult.\" if false."
   ]
  },
  {
   "cell_type": "code",
   "execution_count": 5,
   "id": "ffbd8182-5476-4706-9ca3-5f54c3ad0512",
   "metadata": {},
   "outputs": [
    {
     "data": {
      "text/plain": [
       "{'type': 'cat', 'name': ' buddy', 'age': 3, 'color': 'white'}"
      ]
     },
     "execution_count": 5,
     "metadata": {},
     "output_type": "execute_result"
    }
   ],
   "source": [
    "pet ={\"type\":\"cat\",\n",
    "       \"name\":\" buddy\",\n",
    "        \"age\":3    \n",
    "     }\n",
    "\n",
    "pet[\"color\"] = \"white\"\n",
    "\n",
    "pet"
   ]
  },
  {
   "cell_type": "markdown",
   "id": "324f3d00-2f1a-4c29-8a4a-bd30657e1d65",
   "metadata": {},
   "source": [
    "Question : Book Keeper\n",
    "\n",
    "Following the data below , complete the given Tasks :\n"
   ]
  },
  {
   "cell_type": "code",
   "execution_count": 6,
   "id": "f7ce2929-ab10-4278-804b-81159b93d443",
   "metadata": {},
   "outputs": [],
   "source": [
    "# A list of tuples, where each tuple contains information about a book: (title, genre, year_published, times_borrowed).\n",
    "\n",
    "books = [\n",
    "    (\"The Alchemist\", \"Fiction\", 1988, 250),\n",
    "    (\"The Da Vinci Code\", \"Mystery\", 2003, 300),\n",
    "    (\"A Brief History of Time\", \"Science\", 1988, 150),\n",
    "    (\"The Theory of Everything\", \"Science\", 2002, 100),\n",
    "    (\"Pride and Prejudice\", \"Fiction\", 1813, 200),\n",
    "    (\"To Kill a Mockingbird\", \"Fiction\", 1960, 180),\n",
    "    (\"The Catcher in the Rye\", \"Fiction\", 1991, 220),\n",
    "    (\"Angels & Demons\", \"Mystery\", 2000, 210),\n",
    "    (\"The Grand Design\", \"Science\", 2010, 90),\n",
    "    (\"1984\", \"Fiction\", 1949, 190)\n",
    "]"
   ]
  },
  {
   "cell_type": "markdown",
   "id": "bf481885-5e60-4133-a4bb-db2dcfa85624",
   "metadata": {},
   "source": [
    "\n",
    "Task 01: Create a Book Filtering Function\n",
    "\n",
    "Given the list books as shown below, write a Python function named `filter_books` that filters books based on genre and publication year. The function should take two parameters:` genre (a string)` and year `(an integer)`. It should return a list of book titles that match the given genre and have been published on or after the specified year.\n",
    "\n",
    "* Example usage : print(filter_books(\"Fiction\", 1980))\n",
    "* Expected output: ['The Alchemist', 'The Catcher in the Rye']\n",
    "\n",
    "Try to use List Comprehension with If condition"
   ]
  },
  {
   "cell_type": "code",
   "execution_count": 8,
   "id": "dd858949-b833-4c04-8c51-86905cc49500",
   "metadata": {},
   "outputs": [
    {
     "name": "stdout",
     "output_type": "stream",
     "text": [
      "['The Alchemist', 'The Catcher in the Rye']\n"
     ]
    }
   ],
   "source": [
    "def filter_books(genre, year):\n",
    "    return[title[0] for title in books if title[1] == genre and title[2] >= year]\n",
    "    #return [title for title, book_genre, year_published, _ in books if book_genre.lower() == genre.lower() and year_published >= year]\n",
    "   \n",
    "# Example usage\n",
    "print(filter_books(\"Fiction\", 1980))"
   ]
  },
  {
   "cell_type": "markdown",
   "id": "123db381-f85e-4804-a20c-a064b596a04f",
   "metadata": {},
   "source": [
    "`Task 02 `: Write a Python program that uses a lambda expression to sort this list by publication year in ascending order. Print the sorted list of books.\n",
    "\n",
    "Try using a lambda expression with the sorted() function"
   ]
  },
  {
   "cell_type": "code",
   "execution_count": 5,
   "id": "679add20-20ce-465e-aa05-964f0e001040",
   "metadata": {},
   "outputs": [
    {
     "data": {
      "text/plain": [
       "[('Pride and Prejudice', 'Fiction', 1813, 200),\n",
       " ('1984', 'Fiction', 1949, 190),\n",
       " ('To Kill a Mockingbird', 'Fiction', 1960, 180),\n",
       " ('The Alchemist', 'Fiction', 1988, 250),\n",
       " ('A Brief History of Time', 'Science', 1988, 150),\n",
       " ('The Catcher in the Rye', 'Fiction', 1991, 220),\n",
       " ('Angels & Demons', 'Mystery', 2000, 210),\n",
       " ('The Theory of Everything', 'Science', 2002, 100),\n",
       " ('The Da Vinci Code', 'Mystery', 2003, 300),\n",
       " ('The Grand Design', 'Science', 2010, 90)]"
      ]
     },
     "execution_count": 5,
     "metadata": {},
     "output_type": "execute_result"
    }
   ],
   "source": [
    "books = [\n",
    "    (\"The Alchemist\", \"Fiction\", 1988, 250),\n",
    "    (\"The Da Vinci Code\", \"Mystery\", 2003, 300),\n",
    "    (\"A Brief History of Time\", \"Science\", 1988, 150),\n",
    "    (\"The Theory of Everything\", \"Science\", 2002, 100),\n",
    "    (\"Pride and Prejudice\", \"Fiction\", 1813, 200),\n",
    "    (\"To Kill a Mockingbird\", \"Fiction\", 1960, 180),\n",
    "    (\"The Catcher in the Rye\", \"Fiction\", 1991, 220),\n",
    "    (\"Angels & Demons\", \"Mystery\", 2000, 210),\n",
    "    (\"The Grand Design\", \"Science\", 2010, 90),\n",
    "    (\"1984\", \"Fiction\", 1949, 190)\n",
    "]\n",
    "\n",
    "sorted_book = []\n",
    "sorted_book = sorted(books, key = lambda item: item[2], reverse=False)\n",
    "sorted_book"
   ]
  },
  {
   "cell_type": "code",
   "execution_count": null,
   "id": "1076582e-854b-41f5-836e-bb13d577070e",
   "metadata": {},
   "outputs": [],
   "source": []
  }
 ],
 "metadata": {
  "kernelspec": {
   "display_name": "Python 3 (ipykernel)",
   "language": "python",
   "name": "python3"
  },
  "language_info": {
   "codemirror_mode": {
    "name": "ipython",
    "version": 3
   },
   "file_extension": ".py",
   "mimetype": "text/x-python",
   "name": "python",
   "nbconvert_exporter": "python",
   "pygments_lexer": "ipython3",
   "version": "3.12.7"
  }
 },
 "nbformat": 4,
 "nbformat_minor": 5
}
